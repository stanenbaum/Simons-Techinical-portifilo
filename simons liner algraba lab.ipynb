{
 "cells": [
  {
   "cell_type": "code",
   "execution_count": 1,
   "id": "upset-climate",
   "metadata": {},
   "outputs": [
    {
     "ename": "SyntaxError",
     "evalue": "invalid syntax (<ipython-input-1-1eb492b81db4>, line 4)",
     "output_type": "error",
     "traceback": [
      "\u001b[0;36m  File \u001b[0;32m\"<ipython-input-1-1eb492b81db4>\"\u001b[0;36m, line \u001b[0;32m4\u001b[0m\n\u001b[0;31m    A.np array([ [-1,3],\u001b[0m\n\u001b[0m         ^\u001b[0m\n\u001b[0;31mSyntaxError\u001b[0m\u001b[0;31m:\u001b[0m invalid syntax\n"
     ]
    }
   ],
   "source": [
    "import numpy as np\n",
    "import matplotlib.pyplot as plt\n",
    "from utils import plot_lines\n",
    "A.np array([ [-1,3],\n",
    "             [3, 2]\n",
    "           ],dtype=np.dtype(float))\n",
    "b=np.array([7, 1],dtype-np.dtype(float))\n",
    "print(\"Matrix A:\")\n",
    "print(A)\n",
    "print(\"\\nArray b:\")\n",
    "print(f\"Shape of A:\"{A.Shape})\n",
    "print(f\"Shape of B:\"{B.Shape})\n",
    "X=np.linalg.solve(A,B)\n",
    "print(F\"Solution:{X}\")\n",
    "d = np.linalg.det(A)\n",
    "print(f\"Determinant of matrix A: {d:.2f}\")\n",
    "A_system=np.hstack((A,b.reshape((2,1)))\n",
    "print(A_system)\n",
    "print(A_system[1])\n",
    "plot_lines(A_system)\n",
    "A_2 = np.array([\n",
    "        [-1, 3],\n",
    "        [3, -9]\n",
    "    ], dtype=np.dtype(float))\n",
    "\n",
    "b_2 = np.array([7, 1], dtype=np.dtype(float))\n",
    "\n",
    "d_2 = np.linalg.det(A_2)\n",
    "\n",
    "print(f\"Determinant of matrix A_2: {d_2:.2f}\")\n",
    "try:\n",
    "    x_2 = np.linalg.solve(A_2, b_2)\n",
    "except np.linalg.LinAlgError as err:\n",
    "    print(err)\n",
    "A_2_system = np.hstack((A_2, b_2.reshape((2, 1))))\n",
    "print(A_2_system)\n",
    "b_3 = np.array([7, -21], dtype=np.dtype(float))\n",
    "A_3_system = np.hstack((A_2, b_3.reshape((2, 1))))\n",
    "print(A_3_system)\n",
    "plot_lines(A_3_system)"
   ]
  },
  {
   "cell_type": "code",
   "execution_count": null,
   "id": "demanding-adobe",
   "metadata": {},
   "outputs": [],
   "source": []
  }
 ],
 "metadata": {
  "kernelspec": {
   "display_name": "Python 3",
   "language": "python",
   "name": "python3"
  },
  "language_info": {
   "codemirror_mode": {
    "name": "ipython",
    "version": 3
   },
   "file_extension": ".py",
   "mimetype": "text/x-python",
   "name": "python",
   "nbconvert_exporter": "python",
   "pygments_lexer": "ipython3",
   "version": "3.8.8"
  }
 },
 "nbformat": 4,
 "nbformat_minor": 5
}
